{
 "cells": [
  {
   "cell_type": "code",
   "execution_count": 6,
   "metadata": {},
   "outputs": [],
   "source": [
    "import polars as pl\n",
    "import pandas as pd\n",
    "import numpy as np\n",
    "import matplotlib.pyplot as plt\n",
    "import yfinance as yf\n",
    "import os\n",
    "from datetime import datetime\n",
    "import darts as dt\n",
    "import seaborn as sns"
   ]
  },
  {
   "cell_type": "code",
   "execution_count": 7,
   "metadata": {},
   "outputs": [],
   "source": [
    "ticker = yf.Ticker(ticker='AAPL').history('1y')"
   ]
  },
  {
   "cell_type": "code",
   "execution_count": 8,
   "metadata": {},
   "outputs": [],
   "source": [
    "filepath = \"/Users/mudit.000/OneDrive - University of Essex/Documents/GitHub/Personal-Research-Learning/Personal-Research-Learning/NSE-Stock-Historical-Data/v1\""
   ]
  },
  {
   "cell_type": "code",
   "execution_count": 9,
   "metadata": {},
   "outputs": [],
   "source": [
    "dp = pl.read_csv(filepath + \"/3IINFOLTD.NS.csv\")"
   ]
  },
  {
   "cell_type": "code",
   "execution_count": 10,
   "metadata": {},
   "outputs": [],
   "source": [
    "stocklist = []\n",
    "stocknames = []"
   ]
  },
  {
   "cell_type": "code",
   "execution_count": null,
   "metadata": {},
   "outputs": [],
   "source": []
  },
  {
   "cell_type": "code",
   "execution_count": 11,
   "metadata": {},
   "outputs": [],
   "source": [
    "for files in os.listdir(filepath):\n",
    "    stocknames.append(files)\n",
    "    stocklist.append(pl.read_csv(filepath + \"/\" + files))"
   ]
  },
  {
   "cell_type": "code",
   "execution_count": 12,
   "metadata": {},
   "outputs": [],
   "source": [
    "stocknames = pl.Series(stocknames)"
   ]
  },
  {
   "cell_type": "code",
   "execution_count": 13,
   "metadata": {},
   "outputs": [],
   "source": [
    "stocknames = stocknames.str.replace(\".NS.csv\", \"\")"
   ]
  },
  {
   "cell_type": "code",
   "execution_count": 14,
   "metadata": {},
   "outputs": [
    {
     "data": {
      "text/html": [
       "<div><style>\n",
       ".dataframe > thead > tr,\n",
       ".dataframe > tbody > tr {\n",
       "  text-align: right;\n",
       "  white-space: pre-wrap;\n",
       "}\n",
       "</style>\n",
       "<small>shape: (1_940,)</small><table border=\"1\" class=\"dataframe\"><thead><tr><th></th></tr><tr><td>str</td></tr></thead><tbody><tr><td>&quot;20MICRONS&quot;</td></tr><tr><td>&quot;21STCENMGM&quot;</td></tr><tr><td>&quot;360ONE&quot;</td></tr><tr><td>&quot;3IINFOLTD&quot;</td></tr><tr><td>&quot;3MINDIA&quot;</td></tr><tr><td>&hellip;</td></tr><tr><td>&quot;ZOTA&quot;</td></tr><tr><td>&quot;ZUARI&quot;</td></tr><tr><td>&quot;ZUARIIND&quot;</td></tr><tr><td>&quot;ZYDUSLIFE&quot;</td></tr><tr><td>&quot;ZYDUSWELL&quot;</td></tr></tbody></table></div>"
      ],
      "text/plain": [
       "shape: (1_940,)\n",
       "Series: '' [str]\n",
       "[\n",
       "\t\"20MICRONS\"\n",
       "\t\"21STCENMGM\"\n",
       "\t\"360ONE\"\n",
       "\t\"3IINFOLTD\"\n",
       "\t\"3MINDIA\"\n",
       "\t…\n",
       "\t\"ZOTA\"\n",
       "\t\"ZUARI\"\n",
       "\t\"ZUARIIND\"\n",
       "\t\"ZYDUSLIFE\"\n",
       "\t\"ZYDUSWELL\"\n",
       "]"
      ]
     },
     "execution_count": 14,
     "metadata": {},
     "output_type": "execute_result"
    }
   ],
   "source": [
    "stocknames"
   ]
  },
  {
   "cell_type": "code",
   "execution_count": 15,
   "metadata": {},
   "outputs": [],
   "source": [
    "df = dp.to_pandas()"
   ]
  },
  {
   "cell_type": "code",
   "execution_count": 16,
   "metadata": {},
   "outputs": [],
   "source": [
    "dp = dp.with_columns(pl.col(\"Date\").str.strptime(dtype=pl.Datetime).alias(\"Date\"))"
   ]
  },
  {
   "cell_type": "code",
   "execution_count": 17,
   "metadata": {},
   "outputs": [
    {
     "data": {
      "text/plain": [
       "Date             object\n",
       "Open            float64\n",
       "High            float64\n",
       "Low             float64\n",
       "Close           float64\n",
       "Volume            int64\n",
       "Dividends       float64\n",
       "Stock Splits    float64\n",
       "dtype: object"
      ]
     },
     "execution_count": 17,
     "metadata": {},
     "output_type": "execute_result"
    }
   ],
   "source": [
    "df.dtypes"
   ]
  },
  {
   "cell_type": "code",
   "execution_count": 18,
   "metadata": {},
   "outputs": [],
   "source": [
    "df['Date'] = df['Date'].str.slice(start=0, stop=11)"
   ]
  },
  {
   "cell_type": "code",
   "execution_count": null,
   "metadata": {},
   "outputs": [],
   "source": []
  },
  {
   "cell_type": "code",
   "execution_count": 19,
   "metadata": {},
   "outputs": [],
   "source": [
    "temp = []\n",
    "for x in stocklist:\n",
    "    temp.append(x.with_columns(pl.col('Date').str.slice(0,10).alias('Date')))\n",
    "\n",
    "stocklist = temp"
   ]
  },
  {
   "cell_type": "code",
   "execution_count": 20,
   "metadata": {},
   "outputs": [
    {
     "name": "stdout",
     "output_type": "stream",
     "text": [
      "25\n"
     ]
    }
   ],
   "source": [
    "temp = pl.DataFrame()\n",
    "i = 0\n",
    "for x in stocklist:\n",
    "    try:\n",
    "        temp = temp.vstack(x)\n",
    "        i += 1\n",
    "    except:\n",
    "        print(i)\n",
    "        break"
   ]
  },
  {
   "cell_type": "code",
   "execution_count": 21,
   "metadata": {},
   "outputs": [
    {
     "data": {
      "text/html": [
       "<div><style>\n",
       ".dataframe > thead > tr,\n",
       ".dataframe > tbody > tr {\n",
       "  text-align: right;\n",
       "  white-space: pre-wrap;\n",
       "}\n",
       "</style>\n",
       "<small>shape: (9, 10)</small><table border=\"1\" class=\"dataframe\"><thead><tr><th>statistic</th><th>Date</th><th>Open</th><th>High</th><th>Low</th><th>Close</th><th>Volume</th><th>Dividends</th><th>Stock Splits</th><th>Capital Gains</th></tr><tr><td>str</td><td>str</td><td>f64</td><td>f64</td><td>f64</td><td>f64</td><td>f64</td><td>f64</td><td>f64</td><td>f64</td></tr></thead><tbody><tr><td>&quot;count&quot;</td><td>&quot;4182&quot;</td><td>4182.0</td><td>4182.0</td><td>4182.0</td><td>4182.0</td><td>4182.0</td><td>4182.0</td><td>4182.0</td><td>4182.0</td></tr><tr><td>&quot;null_count&quot;</td><td>&quot;0&quot;</td><td>0.0</td><td>0.0</td><td>0.0</td><td>0.0</td><td>0.0</td><td>0.0</td><td>0.0</td><td>0.0</td></tr><tr><td>&quot;mean&quot;</td><td>null</td><td>11.193173</td><td>11.478431</td><td>10.94841</td><td>11.173159</td><td>9461.763271</td><td>0.0</td><td>0.0</td><td>0.0</td></tr><tr><td>&quot;std&quot;</td><td>null</td><td>13.452913</td><td>13.953136</td><td>12.961758</td><td>13.333025</td><td>117694.391438</td><td>0.0</td><td>0.0</td><td>0.0</td></tr><tr><td>&quot;min&quot;</td><td>&quot;2007-03-19&quot;</td><td>4.1</td><td>4.1</td><td>4.1</td><td>4.1</td><td>0.0</td><td>0.0</td><td>0.0</td><td>0.0</td></tr><tr><td>&quot;25%&quot;</td><td>null</td><td>4.5</td><td>4.5</td><td>4.5</td><td>4.5</td><td>0.0</td><td>0.0</td><td>0.0</td><td>0.0</td></tr><tr><td>&quot;50%&quot;</td><td>null</td><td>4.5</td><td>4.5</td><td>4.5</td><td>4.5</td><td>0.0</td><td>0.0</td><td>0.0</td><td>0.0</td></tr><tr><td>&quot;75%&quot;</td><td>null</td><td>13.85</td><td>14.3</td><td>13.5</td><td>13.85</td><td>2239.0</td><td>0.0</td><td>0.0</td><td>0.0</td></tr><tr><td>&quot;max&quot;</td><td>&quot;2023-10-31&quot;</td><td>96.0</td><td>100.650002</td><td>87.050003</td><td>91.5</td><td>6.5991e6</td><td>0.0</td><td>0.0</td><td>0.0</td></tr></tbody></table></div>"
      ],
      "text/plain": [
       "shape: (9, 10)\n",
       "┌───────────┬───────────┬───────────┬───────────┬───┬───────────┬───────────┬───────────┬──────────┐\n",
       "│ statistic ┆ Date      ┆ Open      ┆ High      ┆ … ┆ Volume    ┆ Dividends ┆ Stock     ┆ Capital  │\n",
       "│ ---       ┆ ---       ┆ ---       ┆ ---       ┆   ┆ ---       ┆ ---       ┆ Splits    ┆ Gains    │\n",
       "│ str       ┆ str       ┆ f64       ┆ f64       ┆   ┆ f64       ┆ f64       ┆ ---       ┆ ---      │\n",
       "│           ┆           ┆           ┆           ┆   ┆           ┆           ┆ f64       ┆ f64      │\n",
       "╞═══════════╪═══════════╪═══════════╪═══════════╪═══╪═══════════╪═══════════╪═══════════╪══════════╡\n",
       "│ count     ┆ 4182      ┆ 4182.0    ┆ 4182.0    ┆ … ┆ 4182.0    ┆ 4182.0    ┆ 4182.0    ┆ 4182.0   │\n",
       "│ null_coun ┆ 0         ┆ 0.0       ┆ 0.0       ┆ … ┆ 0.0       ┆ 0.0       ┆ 0.0       ┆ 0.0      │\n",
       "│ t         ┆           ┆           ┆           ┆   ┆           ┆           ┆           ┆          │\n",
       "│ mean      ┆ null      ┆ 11.193173 ┆ 11.478431 ┆ … ┆ 9461.7632 ┆ 0.0       ┆ 0.0       ┆ 0.0      │\n",
       "│           ┆           ┆           ┆           ┆   ┆ 71        ┆           ┆           ┆          │\n",
       "│ std       ┆ null      ┆ 13.452913 ┆ 13.953136 ┆ … ┆ 117694.39 ┆ 0.0       ┆ 0.0       ┆ 0.0      │\n",
       "│           ┆           ┆           ┆           ┆   ┆ 1438      ┆           ┆           ┆          │\n",
       "│ min       ┆ 2007-03-1 ┆ 4.1       ┆ 4.1       ┆ … ┆ 0.0       ┆ 0.0       ┆ 0.0       ┆ 0.0      │\n",
       "│           ┆ 9         ┆           ┆           ┆   ┆           ┆           ┆           ┆          │\n",
       "│ 25%       ┆ null      ┆ 4.5       ┆ 4.5       ┆ … ┆ 0.0       ┆ 0.0       ┆ 0.0       ┆ 0.0      │\n",
       "│ 50%       ┆ null      ┆ 4.5       ┆ 4.5       ┆ … ┆ 0.0       ┆ 0.0       ┆ 0.0       ┆ 0.0      │\n",
       "│ 75%       ┆ null      ┆ 13.85     ┆ 14.3      ┆ … ┆ 2239.0    ┆ 0.0       ┆ 0.0       ┆ 0.0      │\n",
       "│ max       ┆ 2023-10-3 ┆ 96.0      ┆ 100.65000 ┆ … ┆ 6.5991e6  ┆ 0.0       ┆ 0.0       ┆ 0.0      │\n",
       "│           ┆ 1         ┆           ┆ 2         ┆   ┆           ┆           ┆           ┆          │\n",
       "└───────────┴───────────┴───────────┴───────────┴───┴───────────┴───────────┴───────────┴──────────┘"
      ]
     },
     "execution_count": 21,
     "metadata": {},
     "output_type": "execute_result"
    }
   ],
   "source": [
    "stocklist[25].describe()"
   ]
  },
  {
   "cell_type": "code",
   "execution_count": 22,
   "metadata": {},
   "outputs": [],
   "source": [
    "histData = pl.from_pandas(df)"
   ]
  },
  {
   "cell_type": "code",
   "execution_count": 23,
   "metadata": {},
   "outputs": [
    {
     "data": {
      "text/html": [
       "<div><style>\n",
       ".dataframe > thead > tr,\n",
       ".dataframe > tbody > tr {\n",
       "  text-align: right;\n",
       "  white-space: pre-wrap;\n",
       "}\n",
       "</style>\n",
       "<small>shape: (4_574, 8)</small><table border=\"1\" class=\"dataframe\"><thead><tr><th>Date</th><th>Open</th><th>High</th><th>Low</th><th>Close</th><th>Volume</th><th>Dividends</th><th>Stock Splits</th></tr><tr><td>str</td><td>f64</td><td>f64</td><td>f64</td><td>f64</td><td>i64</td><td>f64</td><td>f64</td></tr></thead><tbody><tr><td>&quot;2005-04-22 &quot;</td><td>520.664895</td><td>520.664895</td><td>423.591779</td><td>432.857849</td><td>3304177</td><td>0.0</td><td>0.0</td></tr><tr><td>&quot;2005-04-25 &quot;</td><td>436.387792</td><td>439.917724</td><td>415.649444</td><td>419.002869</td><td>1021511</td><td>0.0</td><td>0.0</td></tr><tr><td>&quot;2005-04-26 &quot;</td><td>422.091553</td><td>424.739001</td><td>410.795783</td><td>412.119507</td><td>680155</td><td>0.0</td><td>0.0</td></tr><tr><td>&quot;2005-04-27 &quot;</td><td>412.119501</td><td>449.007275</td><td>407.53058</td><td>424.03302</td><td>1872361</td><td>0.0</td><td>0.0</td></tr><tr><td>&quot;2005-04-28 &quot;</td><td>423.591803</td><td>435.505322</td><td>417.679156</td><td>421.65033</td><td>741207</td><td>0.0</td><td>0.0</td></tr><tr><td>&hellip;</td><td>&hellip;</td><td>&hellip;</td><td>&hellip;</td><td>&hellip;</td><td>&hellip;</td><td>&hellip;</td><td>&hellip;</td></tr><tr><td>&quot;2023-10-26 &quot;</td><td>36.0</td><td>36.599998</td><td>34.650002</td><td>35.700001</td><td>770037</td><td>0.0</td><td>0.0</td></tr><tr><td>&quot;2023-10-27 &quot;</td><td>36.099998</td><td>36.950001</td><td>35.900002</td><td>36.599998</td><td>573842</td><td>0.0</td><td>0.0</td></tr><tr><td>&quot;2023-10-30 &quot;</td><td>36.799999</td><td>37.349998</td><td>36.25</td><td>36.900002</td><td>400942</td><td>0.0</td><td>0.0</td></tr><tr><td>&quot;2023-10-31 &quot;</td><td>37.099998</td><td>37.450001</td><td>36.200001</td><td>36.400002</td><td>353270</td><td>0.0</td><td>0.0</td></tr><tr><td>&quot;2023-11-01 &quot;</td><td>36.400002</td><td>37.950001</td><td>36.400002</td><td>37.299999</td><td>485370</td><td>0.0</td><td>0.0</td></tr></tbody></table></div>"
      ],
      "text/plain": [
       "shape: (4_574, 8)\n",
       "┌─────────────┬─────────────┬─────────────┬────────────┬────────────┬─────────┬───────────┬────────┐\n",
       "│ Date        ┆ Open        ┆ High        ┆ Low        ┆ Close      ┆ Volume  ┆ Dividends ┆ Stock  │\n",
       "│ ---         ┆ ---         ┆ ---         ┆ ---        ┆ ---        ┆ ---     ┆ ---       ┆ Splits │\n",
       "│ str         ┆ f64         ┆ f64         ┆ f64        ┆ f64        ┆ i64     ┆ f64       ┆ ---    │\n",
       "│             ┆             ┆             ┆            ┆            ┆         ┆           ┆ f64    │\n",
       "╞═════════════╪═════════════╪═════════════╪════════════╪════════════╪═════════╪═══════════╪════════╡\n",
       "│ 2005-04-22  ┆ 520.664895  ┆ 520.664895  ┆ 423.591779 ┆ 432.857849 ┆ 3304177 ┆ 0.0       ┆ 0.0    │\n",
       "│ 2005-04-25  ┆ 436.387792  ┆ 439.917724  ┆ 415.649444 ┆ 419.002869 ┆ 1021511 ┆ 0.0       ┆ 0.0    │\n",
       "│ 2005-04-26  ┆ 422.091553  ┆ 424.739001  ┆ 410.795783 ┆ 412.119507 ┆ 680155  ┆ 0.0       ┆ 0.0    │\n",
       "│ 2005-04-27  ┆ 412.119501  ┆ 449.007275  ┆ 407.53058  ┆ 424.03302  ┆ 1872361 ┆ 0.0       ┆ 0.0    │\n",
       "│ 2005-04-28  ┆ 423.591803  ┆ 435.505322  ┆ 417.679156 ┆ 421.65033  ┆ 741207  ┆ 0.0       ┆ 0.0    │\n",
       "│ …           ┆ …           ┆ …           ┆ …          ┆ …          ┆ …       ┆ …         ┆ …      │\n",
       "│ 2023-10-26  ┆ 36.0        ┆ 36.599998   ┆ 34.650002  ┆ 35.700001  ┆ 770037  ┆ 0.0       ┆ 0.0    │\n",
       "│ 2023-10-27  ┆ 36.099998   ┆ 36.950001   ┆ 35.900002  ┆ 36.599998  ┆ 573842  ┆ 0.0       ┆ 0.0    │\n",
       "│ 2023-10-30  ┆ 36.799999   ┆ 37.349998   ┆ 36.25      ┆ 36.900002  ┆ 400942  ┆ 0.0       ┆ 0.0    │\n",
       "│ 2023-10-31  ┆ 37.099998   ┆ 37.450001   ┆ 36.200001  ┆ 36.400002  ┆ 353270  ┆ 0.0       ┆ 0.0    │\n",
       "│ 2023-11-01  ┆ 36.400002   ┆ 37.950001   ┆ 36.400002  ┆ 37.299999  ┆ 485370  ┆ 0.0       ┆ 0.0    │\n",
       "└─────────────┴─────────────┴─────────────┴────────────┴────────────┴─────────┴───────────┴────────┘"
      ]
     },
     "execution_count": 23,
     "metadata": {},
     "output_type": "execute_result"
    }
   ],
   "source": [
    "histData"
   ]
  },
  {
   "cell_type": "code",
   "execution_count": 24,
   "metadata": {},
   "outputs": [],
   "source": [
    "histData = histData.with_columns(pl.col(\"Date\").str.strip_chars())"
   ]
  },
  {
   "cell_type": "code",
   "execution_count": 25,
   "metadata": {},
   "outputs": [],
   "source": [
    "histData = histData.with_columns(pl.col(\"Date\").str.to_date(format=\"%F\"))"
   ]
  },
  {
   "cell_type": "code",
   "execution_count": 26,
   "metadata": {},
   "outputs": [
    {
     "data": {
      "text/html": [
       "<div><style>\n",
       ".dataframe > thead > tr,\n",
       ".dataframe > tbody > tr {\n",
       "  text-align: right;\n",
       "  white-space: pre-wrap;\n",
       "}\n",
       "</style>\n",
       "<small>shape: (4_574, 8)</small><table border=\"1\" class=\"dataframe\"><thead><tr><th>Date</th><th>Open</th><th>High</th><th>Low</th><th>Close</th><th>Volume</th><th>Dividends</th><th>Stock Splits</th></tr><tr><td>date</td><td>f64</td><td>f64</td><td>f64</td><td>f64</td><td>i64</td><td>f64</td><td>f64</td></tr></thead><tbody><tr><td>2005-04-22</td><td>520.664895</td><td>520.664895</td><td>423.591779</td><td>432.857849</td><td>3304177</td><td>0.0</td><td>0.0</td></tr><tr><td>2005-04-25</td><td>436.387792</td><td>439.917724</td><td>415.649444</td><td>419.002869</td><td>1021511</td><td>0.0</td><td>0.0</td></tr><tr><td>2005-04-26</td><td>422.091553</td><td>424.739001</td><td>410.795783</td><td>412.119507</td><td>680155</td><td>0.0</td><td>0.0</td></tr><tr><td>2005-04-27</td><td>412.119501</td><td>449.007275</td><td>407.53058</td><td>424.03302</td><td>1872361</td><td>0.0</td><td>0.0</td></tr><tr><td>2005-04-28</td><td>423.591803</td><td>435.505322</td><td>417.679156</td><td>421.65033</td><td>741207</td><td>0.0</td><td>0.0</td></tr><tr><td>&hellip;</td><td>&hellip;</td><td>&hellip;</td><td>&hellip;</td><td>&hellip;</td><td>&hellip;</td><td>&hellip;</td><td>&hellip;</td></tr><tr><td>2023-10-26</td><td>36.0</td><td>36.599998</td><td>34.650002</td><td>35.700001</td><td>770037</td><td>0.0</td><td>0.0</td></tr><tr><td>2023-10-27</td><td>36.099998</td><td>36.950001</td><td>35.900002</td><td>36.599998</td><td>573842</td><td>0.0</td><td>0.0</td></tr><tr><td>2023-10-30</td><td>36.799999</td><td>37.349998</td><td>36.25</td><td>36.900002</td><td>400942</td><td>0.0</td><td>0.0</td></tr><tr><td>2023-10-31</td><td>37.099998</td><td>37.450001</td><td>36.200001</td><td>36.400002</td><td>353270</td><td>0.0</td><td>0.0</td></tr><tr><td>2023-11-01</td><td>36.400002</td><td>37.950001</td><td>36.400002</td><td>37.299999</td><td>485370</td><td>0.0</td><td>0.0</td></tr></tbody></table></div>"
      ],
      "text/plain": [
       "shape: (4_574, 8)\n",
       "┌─────────────┬─────────────┬─────────────┬────────────┬────────────┬─────────┬───────────┬────────┐\n",
       "│ Date        ┆ Open        ┆ High        ┆ Low        ┆ Close      ┆ Volume  ┆ Dividends ┆ Stock  │\n",
       "│ ---         ┆ ---         ┆ ---         ┆ ---        ┆ ---        ┆ ---     ┆ ---       ┆ Splits │\n",
       "│ date        ┆ f64         ┆ f64         ┆ f64        ┆ f64        ┆ i64     ┆ f64       ┆ ---    │\n",
       "│             ┆             ┆             ┆            ┆            ┆         ┆           ┆ f64    │\n",
       "╞═════════════╪═════════════╪═════════════╪════════════╪════════════╪═════════╪═══════════╪════════╡\n",
       "│ 2005-04-22  ┆ 520.664895  ┆ 520.664895  ┆ 423.591779 ┆ 432.857849 ┆ 3304177 ┆ 0.0       ┆ 0.0    │\n",
       "│ 2005-04-25  ┆ 436.387792  ┆ 439.917724  ┆ 415.649444 ┆ 419.002869 ┆ 1021511 ┆ 0.0       ┆ 0.0    │\n",
       "│ 2005-04-26  ┆ 422.091553  ┆ 424.739001  ┆ 410.795783 ┆ 412.119507 ┆ 680155  ┆ 0.0       ┆ 0.0    │\n",
       "│ 2005-04-27  ┆ 412.119501  ┆ 449.007275  ┆ 407.53058  ┆ 424.03302  ┆ 1872361 ┆ 0.0       ┆ 0.0    │\n",
       "│ 2005-04-28  ┆ 423.591803  ┆ 435.505322  ┆ 417.679156 ┆ 421.65033  ┆ 741207  ┆ 0.0       ┆ 0.0    │\n",
       "│ …           ┆ …           ┆ …           ┆ …          ┆ …          ┆ …       ┆ …         ┆ …      │\n",
       "│ 2023-10-26  ┆ 36.0        ┆ 36.599998   ┆ 34.650002  ┆ 35.700001  ┆ 770037  ┆ 0.0       ┆ 0.0    │\n",
       "│ 2023-10-27  ┆ 36.099998   ┆ 36.950001   ┆ 35.900002  ┆ 36.599998  ┆ 573842  ┆ 0.0       ┆ 0.0    │\n",
       "│ 2023-10-30  ┆ 36.799999   ┆ 37.349998   ┆ 36.25      ┆ 36.900002  ┆ 400942  ┆ 0.0       ┆ 0.0    │\n",
       "│ 2023-10-31  ┆ 37.099998   ┆ 37.450001   ┆ 36.200001  ┆ 36.400002  ┆ 353270  ┆ 0.0       ┆ 0.0    │\n",
       "│ 2023-11-01  ┆ 36.400002   ┆ 37.950001   ┆ 36.400002  ┆ 37.299999  ┆ 485370  ┆ 0.0       ┆ 0.0    │\n",
       "└─────────────┴─────────────┴─────────────┴────────────┴────────────┴─────────┴───────────┴────────┘"
      ]
     },
     "execution_count": 26,
     "metadata": {},
     "output_type": "execute_result"
    }
   ],
   "source": [
    "histData"
   ]
  },
  {
   "cell_type": "code",
   "execution_count": 27,
   "metadata": {},
   "outputs": [
    {
     "data": {
      "text/plain": [
       "<Axes: xlabel='Open', ylabel='Count'>"
      ]
     },
     "execution_count": 27,
     "metadata": {},
     "output_type": "execute_result"
    },
    {
     "data": {
      "image/png": "[encoded data removed]",
      "text/plain": [
       "<Figure size 640x480 with 1 Axes>"
      ]
     },
     "metadata": {},
     "output_type": "display_data"
    }
   ],
   "source": [
    "sns.histplot(data=histData, x=\"Open\")"
   ]
  }
 ],
 "metadata": {
  "kernelspec": {
   "display_name": ".venv",
   "language": "python",
   "name": "python3"
  },
  "language_info": {
   "codemirror_mode": {
    "name": "ipython",
    "version": 3
   },
   "file_extension": ".py",
   "mimetype": "text/x-python",
   "name": "python",
   "nbconvert_exporter": "python",
   "pygments_lexer": "ipython3",
   "version": "3.11.9"
  }
 },
 "nbformat": 4,
 "nbformat_minor": 2
}
